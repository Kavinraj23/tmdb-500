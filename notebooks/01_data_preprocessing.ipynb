{
  "cells": [
    {
      "cell_type": "code",
      "execution_count": null,
      "metadata": {
        "id": "rcvuoaJkbfN0"
      },
      "outputs": [],
      "source": [
        "import numpy as np\n",
        "import pandas as pd\n",
        "import seaborn as sns\n",
        "import matplotlib.pyplot as plt"
      ]
    },
    {
      "cell_type": "code",
      "execution_count": null,
      "metadata": {
        "id": "oLCNW0XBb1UN"
      },
      "outputs": [],
      "source": [
        "df = pd.read_csv('merged_movies_credits.csv')"
      ]
    },
    {
      "cell_type": "code",
      "execution_count": null,
      "metadata": {
        "colab": {
          "base_uri": "https://localhost:8080/"
        },
        "id": "aYBBj_AXcIBS",
        "outputId": "b9185fd7-f897-434c-d0b7-931092c1656f"
      },
      "outputs": [
        {
          "data": {
            "text/plain": [
              "(4796, 16)"
            ]
          },
          "execution_count": 3,
          "metadata": {},
          "output_type": "execute_result"
        }
      ],
      "source": [
        "df.shape"
      ]
    },
    {
      "cell_type": "code",
      "execution_count": null,
      "metadata": {
        "colab": {
          "base_uri": "https://localhost:8080/",
          "height": 591
        },
        "id": "FvrhynaBb5If",
        "outputId": "d51a4f2c-049a-456d-de29-435a1a9cf462"
      },
      "outputs": [
        {
          "data": {
            "application/vnd.google.colaboratory.intrinsic+json": {
              "summary": "{\n  \"name\": \"df\",\n  \"rows\": 4796,\n  \"fields\": [\n    {\n      \"column\": \"movie_id\",\n      \"properties\": {\n        \"dtype\": \"number\",\n        \"std\": 88500,\n        \"min\": 5,\n        \"max\": 459488,\n        \"num_unique_values\": 4796,\n        \"samples\": [\n          1997,\n          26389,\n          69\n        ],\n        \"semantic_type\": \"\",\n        \"description\": \"\"\n      }\n    },\n    {\n      \"column\": \"title_x\",\n      \"properties\": {\n        \"dtype\": \"string\",\n        \"num_unique_values\": 4792,\n        \"samples\": [\n          \"Two Brothers\",\n          \"From Paris with Love\",\n          \"Walk the Line\"\n        ],\n        \"semantic_type\": \"\",\n        \"description\": \"\"\n      }\n    },\n    {\n      \"column\": \"budget\",\n      \"properties\": {\n        \"dtype\": \"number\",\n        \"std\": 40352301,\n        \"min\": 0,\n        \"max\": 379000000,\n        \"num_unique_values\": 465,\n        \"samples\": [\n          97250400,\n          79000000,\n          155000000\n        ],\n        \"semantic_type\": \"\",\n        \"description\": \"\"\n      }\n    },\n    {\n      \"column\": \"revenue\",\n      \"properties\": {\n        \"dtype\": \"number\",\n        \"std\": 165138210,\n        \"min\": 0,\n        \"max\": 2923706026,\n        \"num_unique_values\": 3774,\n        \"samples\": [\n          435000000,\n          70,\n          22939027\n        ],\n        \"semantic_type\": \"\",\n        \"description\": \"\"\n      }\n    },\n    {\n      \"column\": \"runtime\",\n      \"properties\": {\n        \"dtype\": \"number\",\n        \"std\": 20,\n        \"min\": 0,\n        \"max\": 339,\n        \"num_unique_values\": 152,\n        \"samples\": [\n          91,\n          66,\n          83\n        ],\n        \"semantic_type\": \"\",\n        \"description\": \"\"\n      }\n    },\n    {\n      \"column\": \"release_date\",\n      \"properties\": {\n        \"dtype\": \"object\",\n        \"num_unique_values\": 3190,\n        \"samples\": [\n          \"2015-09-23\",\n          \"2015-04-08\",\n          \"1980-12-12\"\n        ],\n        \"semantic_type\": \"\",\n        \"description\": \"\"\n      }\n    },\n    {\n      \"column\": \"genres\",\n      \"properties\": {\n        \"dtype\": \"category\",\n        \"num_unique_values\": 1276,\n        \"samples\": [\n          \"['Fantasy', 'Action', 'Adventure', 'Animation', 'Comedy', 'Family']\",\n          \"['Adventure', 'Fantasy', 'Drama']\",\n          \"['Animation', 'Comedy', 'Family', 'Fantasy']\"\n        ],\n        \"semantic_type\": \"\",\n        \"description\": \"\"\n      }\n    },\n    {\n      \"column\": \"original_language\",\n      \"properties\": {\n        \"dtype\": \"category\",\n        \"num_unique_values\": 39,\n        \"samples\": [\n          \"ro\",\n          \"ps\",\n          \"es\"\n        ],\n        \"semantic_type\": \"\",\n        \"description\": \"\"\n      }\n    },\n    {\n      \"column\": \"popularity\",\n      \"properties\": {\n        \"dtype\": \"number\",\n        \"std\": 4.71132431123158,\n        \"min\": 0.0071,\n        \"max\": 81.9195,\n        \"num_unique_values\": 4648,\n        \"samples\": [\n          11.6029,\n          0.2764,\n          7.4691\n        ],\n        \"semantic_type\": \"\",\n        \"description\": \"\"\n      }\n    },\n    {\n      \"column\": \"vote_average\",\n      \"properties\": {\n        \"dtype\": \"number\",\n        \"std\": 0.988160600407417,\n        \"min\": 0.0,\n        \"max\": 10.0,\n        \"num_unique_values\": 2049,\n        \"samples\": [\n          2.917,\n          6.424,\n          6.566\n        ],\n        \"semantic_type\": \"\",\n        \"description\": \"\"\n      }\n    },\n    {\n      \"column\": \"vote_count\",\n      \"properties\": {\n        \"dtype\": \"number\",\n        \"std\": 3882,\n        \"min\": 0,\n        \"max\": 37443,\n        \"num_unique_values\": 2713,\n        \"samples\": [\n          2513,\n          1728,\n          927\n        ],\n        \"semantic_type\": \"\",\n        \"description\": \"\"\n      }\n    },\n    {\n      \"column\": \"status\",\n      \"properties\": {\n        \"dtype\": \"category\",\n        \"num_unique_values\": 1,\n        \"samples\": [\n          \"Released\"\n        ],\n        \"semantic_type\": \"\",\n        \"description\": \"\"\n      }\n    },\n    {\n      \"column\": \"production_companies\",\n      \"properties\": {\n        \"dtype\": \"string\",\n        \"num_unique_values\": 4220,\n        \"samples\": [\n          \"['Rogue Pictures', 'Film Afrika', 'Sean S. Cunningham Films', 'The Night Co.', 'Focus Features']\"\n        ],\n        \"semantic_type\": \"\",\n        \"description\": \"\"\n      }\n    },\n    {\n      \"column\": \"title_y\",\n      \"properties\": {\n        \"dtype\": \"string\",\n        \"num_unique_values\": 4793,\n        \"samples\": [\n          \"Two Brothers\"\n        ],\n        \"semantic_type\": \"\",\n        \"description\": \"\"\n      }\n    },\n    {\n      \"column\": \"top_cast\",\n      \"properties\": {\n        \"dtype\": \"string\",\n        \"num_unique_values\": 4690,\n        \"samples\": [\n          \"['Michael Douglas', 'Andy Garc\\u00eda', 'Kate Capshaw']\"\n        ],\n        \"semantic_type\": \"\",\n        \"description\": \"\"\n      }\n    },\n    {\n      \"column\": \"director\",\n      \"properties\": {\n        \"dtype\": \"category\",\n        \"num_unique_values\": 2346,\n        \"samples\": [\n          \"Emily Young\"\n        ],\n        \"semantic_type\": \"\",\n        \"description\": \"\"\n      }\n    }\n  ]\n}",
              "type": "dataframe",
              "variable_name": "df"
            },
            "text/html": [
              "\n",
              "  <div id=\"df-6c38f0d0-5614-4c94-a28b-8b77e340e11f\" class=\"colab-df-container\">\n",
              "    <div>\n",
              "<style scoped>\n",
              "    .dataframe tbody tr th:only-of-type {\n",
              "        vertical-align: middle;\n",
              "    }\n",
              "\n",
              "    .dataframe tbody tr th {\n",
              "        vertical-align: top;\n",
              "    }\n",
              "\n",
              "    .dataframe thead th {\n",
              "        text-align: right;\n",
              "    }\n",
              "</style>\n",
              "<table border=\"1\" class=\"dataframe\">\n",
              "  <thead>\n",
              "    <tr style=\"text-align: right;\">\n",
              "      <th></th>\n",
              "      <th>movie_id</th>\n",
              "      <th>title_x</th>\n",
              "      <th>budget</th>\n",
              "      <th>revenue</th>\n",
              "      <th>runtime</th>\n",
              "      <th>release_date</th>\n",
              "      <th>genres</th>\n",
              "      <th>original_language</th>\n",
              "      <th>popularity</th>\n",
              "      <th>vote_average</th>\n",
              "      <th>vote_count</th>\n",
              "      <th>status</th>\n",
              "      <th>production_companies</th>\n",
              "      <th>title_y</th>\n",
              "      <th>top_cast</th>\n",
              "      <th>director</th>\n",
              "    </tr>\n",
              "  </thead>\n",
              "  <tbody>\n",
              "    <tr>\n",
              "      <th>0</th>\n",
              "      <td>19995</td>\n",
              "      <td>Avatar</td>\n",
              "      <td>237000000</td>\n",
              "      <td>2923706026</td>\n",
              "      <td>162</td>\n",
              "      <td>2009-12-15</td>\n",
              "      <td>['Action', 'Adventure', 'Fantasy', 'Science Fi...</td>\n",
              "      <td>en</td>\n",
              "      <td>24.6495</td>\n",
              "      <td>7.589</td>\n",
              "      <td>32216</td>\n",
              "      <td>Released</td>\n",
              "      <td>['Dune Entertainment', 'Lightstorm Entertainme...</td>\n",
              "      <td>Avatar</td>\n",
              "      <td>['Sam Worthington', 'Zoe Saldana', 'Sigourney ...</td>\n",
              "      <td>James Cameron</td>\n",
              "    </tr>\n",
              "    <tr>\n",
              "      <th>1</th>\n",
              "      <td>285</td>\n",
              "      <td>Pirates of the Caribbean: At World's End</td>\n",
              "      <td>300000000</td>\n",
              "      <td>961691209</td>\n",
              "      <td>169</td>\n",
              "      <td>2007-05-19</td>\n",
              "      <td>['Adventure', 'Fantasy', 'Action']</td>\n",
              "      <td>en</td>\n",
              "      <td>14.9196</td>\n",
              "      <td>7.259</td>\n",
              "      <td>14687</td>\n",
              "      <td>Released</td>\n",
              "      <td>['Jerry Bruckheimer Films', 'Second Mate Produ...</td>\n",
              "      <td>Pirates of the Caribbean: At World's End</td>\n",
              "      <td>['Johnny Depp', 'Orlando Bloom', 'Keira Knight...</td>\n",
              "      <td>Gore Verbinski</td>\n",
              "    </tr>\n",
              "    <tr>\n",
              "      <th>2</th>\n",
              "      <td>206647</td>\n",
              "      <td>Spectre</td>\n",
              "      <td>245000000</td>\n",
              "      <td>880707597</td>\n",
              "      <td>148</td>\n",
              "      <td>2015-10-26</td>\n",
              "      <td>['Action', 'Adventure', 'Thriller']</td>\n",
              "      <td>en</td>\n",
              "      <td>6.4422</td>\n",
              "      <td>6.558</td>\n",
              "      <td>10702</td>\n",
              "      <td>Released</td>\n",
              "      <td>['Metro-Goldwyn-Mayer', 'Columbia Pictures', '...</td>\n",
              "      <td>Spectre</td>\n",
              "      <td>['Daniel Craig', 'Christoph Waltz', 'Léa Seydo...</td>\n",
              "      <td>Sam Mendes</td>\n",
              "    </tr>\n",
              "    <tr>\n",
              "      <th>3</th>\n",
              "      <td>49026</td>\n",
              "      <td>The Dark Knight Rises</td>\n",
              "      <td>250000000</td>\n",
              "      <td>1081041287</td>\n",
              "      <td>165</td>\n",
              "      <td>2012-07-17</td>\n",
              "      <td>['Action', 'Crime', 'Drama', 'Thriller']</td>\n",
              "      <td>en</td>\n",
              "      <td>13.0256</td>\n",
              "      <td>7.785</td>\n",
              "      <td>23192</td>\n",
              "      <td>Released</td>\n",
              "      <td>['Syncopy', 'Legendary Pictures', 'DC Entertai...</td>\n",
              "      <td>The Dark Knight Rises</td>\n",
              "      <td>['Christian Bale', 'Michael Caine', 'Gary Oldm...</td>\n",
              "      <td>Christopher Nolan</td>\n",
              "    </tr>\n",
              "    <tr>\n",
              "      <th>4</th>\n",
              "      <td>49529</td>\n",
              "      <td>John Carter</td>\n",
              "      <td>250000000</td>\n",
              "      <td>284100000</td>\n",
              "      <td>132</td>\n",
              "      <td>2012-03-07</td>\n",
              "      <td>['Action', 'Adventure', 'Science Fiction']</td>\n",
              "      <td>en</td>\n",
              "      <td>6.1147</td>\n",
              "      <td>6.333</td>\n",
              "      <td>5723</td>\n",
              "      <td>Released</td>\n",
              "      <td>['Walt Disney Pictures']</td>\n",
              "      <td>John Carter</td>\n",
              "      <td>['Taylor Kitsch', 'Lynn Collins', 'Samantha Mo...</td>\n",
              "      <td>Andrew Stanton</td>\n",
              "    </tr>\n",
              "  </tbody>\n",
              "</table>\n",
              "</div>\n",
              "    <div class=\"colab-df-buttons\">\n",
              "\n",
              "  <div class=\"colab-df-container\">\n",
              "    <button class=\"colab-df-convert\" onclick=\"convertToInteractive('df-6c38f0d0-5614-4c94-a28b-8b77e340e11f')\"\n",
              "            title=\"Convert this dataframe to an interactive table.\"\n",
              "            style=\"display:none;\">\n",
              "\n",
              "  <svg xmlns=\"http://www.w3.org/2000/svg\" height=\"24px\" viewBox=\"0 -960 960 960\">\n",
              "    <path d=\"M120-120v-720h720v720H120Zm60-500h600v-160H180v160Zm220 220h160v-160H400v160Zm0 220h160v-160H400v160ZM180-400h160v-160H180v160Zm440 0h160v-160H620v160ZM180-180h160v-160H180v160Zm440 0h160v-160H620v160Z\"/>\n",
              "  </svg>\n",
              "    </button>\n",
              "\n",
              "  <style>\n",
              "    .colab-df-container {\n",
              "      display:flex;\n",
              "      gap: 12px;\n",
              "    }\n",
              "\n",
              "    .colab-df-convert {\n",
              "      background-color: #E8F0FE;\n",
              "      border: none;\n",
              "      border-radius: 50%;\n",
              "      cursor: pointer;\n",
              "      display: none;\n",
              "      fill: #1967D2;\n",
              "      height: 32px;\n",
              "      padding: 0 0 0 0;\n",
              "      width: 32px;\n",
              "    }\n",
              "\n",
              "    .colab-df-convert:hover {\n",
              "      background-color: #E2EBFA;\n",
              "      box-shadow: 0px 1px 2px rgba(60, 64, 67, 0.3), 0px 1px 3px 1px rgba(60, 64, 67, 0.15);\n",
              "      fill: #174EA6;\n",
              "    }\n",
              "\n",
              "    .colab-df-buttons div {\n",
              "      margin-bottom: 4px;\n",
              "    }\n",
              "\n",
              "    [theme=dark] .colab-df-convert {\n",
              "      background-color: #3B4455;\n",
              "      fill: #D2E3FC;\n",
              "    }\n",
              "\n",
              "    [theme=dark] .colab-df-convert:hover {\n",
              "      background-color: #434B5C;\n",
              "      box-shadow: 0px 1px 3px 1px rgba(0, 0, 0, 0.15);\n",
              "      filter: drop-shadow(0px 1px 2px rgba(0, 0, 0, 0.3));\n",
              "      fill: #FFFFFF;\n",
              "    }\n",
              "  </style>\n",
              "\n",
              "    <script>\n",
              "      const buttonEl =\n",
              "        document.querySelector('#df-6c38f0d0-5614-4c94-a28b-8b77e340e11f button.colab-df-convert');\n",
              "      buttonEl.style.display =\n",
              "        google.colab.kernel.accessAllowed ? 'block' : 'none';\n",
              "\n",
              "      async function convertToInteractive(key) {\n",
              "        const element = document.querySelector('#df-6c38f0d0-5614-4c94-a28b-8b77e340e11f');\n",
              "        const dataTable =\n",
              "          await google.colab.kernel.invokeFunction('convertToInteractive',\n",
              "                                                    [key], {});\n",
              "        if (!dataTable) return;\n",
              "\n",
              "        const docLinkHtml = 'Like what you see? Visit the ' +\n",
              "          '<a target=\"_blank\" href=https://colab.research.google.com/notebooks/data_table.ipynb>data table notebook</a>'\n",
              "          + ' to learn more about interactive tables.';\n",
              "        element.innerHTML = '';\n",
              "        dataTable['output_type'] = 'display_data';\n",
              "        await google.colab.output.renderOutput(dataTable, element);\n",
              "        const docLink = document.createElement('div');\n",
              "        docLink.innerHTML = docLinkHtml;\n",
              "        element.appendChild(docLink);\n",
              "      }\n",
              "    </script>\n",
              "  </div>\n",
              "\n",
              "\n",
              "    <div id=\"df-0b6bc634-9e30-4566-962c-0f9f2790f950\">\n",
              "      <button class=\"colab-df-quickchart\" onclick=\"quickchart('df-0b6bc634-9e30-4566-962c-0f9f2790f950')\"\n",
              "                title=\"Suggest charts\"\n",
              "                style=\"display:none;\">\n",
              "\n",
              "<svg xmlns=\"http://www.w3.org/2000/svg\" height=\"24px\"viewBox=\"0 0 24 24\"\n",
              "     width=\"24px\">\n",
              "    <g>\n",
              "        <path d=\"M19 3H5c-1.1 0-2 .9-2 2v14c0 1.1.9 2 2 2h14c1.1 0 2-.9 2-2V5c0-1.1-.9-2-2-2zM9 17H7v-7h2v7zm4 0h-2V7h2v10zm4 0h-2v-4h2v4z\"/>\n",
              "    </g>\n",
              "</svg>\n",
              "      </button>\n",
              "\n",
              "<style>\n",
              "  .colab-df-quickchart {\n",
              "      --bg-color: #E8F0FE;\n",
              "      --fill-color: #1967D2;\n",
              "      --hover-bg-color: #E2EBFA;\n",
              "      --hover-fill-color: #174EA6;\n",
              "      --disabled-fill-color: #AAA;\n",
              "      --disabled-bg-color: #DDD;\n",
              "  }\n",
              "\n",
              "  [theme=dark] .colab-df-quickchart {\n",
              "      --bg-color: #3B4455;\n",
              "      --fill-color: #D2E3FC;\n",
              "      --hover-bg-color: #434B5C;\n",
              "      --hover-fill-color: #FFFFFF;\n",
              "      --disabled-bg-color: #3B4455;\n",
              "      --disabled-fill-color: #666;\n",
              "  }\n",
              "\n",
              "  .colab-df-quickchart {\n",
              "    background-color: var(--bg-color);\n",
              "    border: none;\n",
              "    border-radius: 50%;\n",
              "    cursor: pointer;\n",
              "    display: none;\n",
              "    fill: var(--fill-color);\n",
              "    height: 32px;\n",
              "    padding: 0;\n",
              "    width: 32px;\n",
              "  }\n",
              "\n",
              "  .colab-df-quickchart:hover {\n",
              "    background-color: var(--hover-bg-color);\n",
              "    box-shadow: 0 1px 2px rgba(60, 64, 67, 0.3), 0 1px 3px 1px rgba(60, 64, 67, 0.15);\n",
              "    fill: var(--button-hover-fill-color);\n",
              "  }\n",
              "\n",
              "  .colab-df-quickchart-complete:disabled,\n",
              "  .colab-df-quickchart-complete:disabled:hover {\n",
              "    background-color: var(--disabled-bg-color);\n",
              "    fill: var(--disabled-fill-color);\n",
              "    box-shadow: none;\n",
              "  }\n",
              "\n",
              "  .colab-df-spinner {\n",
              "    border: 2px solid var(--fill-color);\n",
              "    border-color: transparent;\n",
              "    border-bottom-color: var(--fill-color);\n",
              "    animation:\n",
              "      spin 1s steps(1) infinite;\n",
              "  }\n",
              "\n",
              "  @keyframes spin {\n",
              "    0% {\n",
              "      border-color: transparent;\n",
              "      border-bottom-color: var(--fill-color);\n",
              "      border-left-color: var(--fill-color);\n",
              "    }\n",
              "    20% {\n",
              "      border-color: transparent;\n",
              "      border-left-color: var(--fill-color);\n",
              "      border-top-color: var(--fill-color);\n",
              "    }\n",
              "    30% {\n",
              "      border-color: transparent;\n",
              "      border-left-color: var(--fill-color);\n",
              "      border-top-color: var(--fill-color);\n",
              "      border-right-color: var(--fill-color);\n",
              "    }\n",
              "    40% {\n",
              "      border-color: transparent;\n",
              "      border-right-color: var(--fill-color);\n",
              "      border-top-color: var(--fill-color);\n",
              "    }\n",
              "    60% {\n",
              "      border-color: transparent;\n",
              "      border-right-color: var(--fill-color);\n",
              "    }\n",
              "    80% {\n",
              "      border-color: transparent;\n",
              "      border-right-color: var(--fill-color);\n",
              "      border-bottom-color: var(--fill-color);\n",
              "    }\n",
              "    90% {\n",
              "      border-color: transparent;\n",
              "      border-bottom-color: var(--fill-color);\n",
              "    }\n",
              "  }\n",
              "</style>\n",
              "\n",
              "      <script>\n",
              "        async function quickchart(key) {\n",
              "          const quickchartButtonEl =\n",
              "            document.querySelector('#' + key + ' button');\n",
              "          quickchartButtonEl.disabled = true;  // To prevent multiple clicks.\n",
              "          quickchartButtonEl.classList.add('colab-df-spinner');\n",
              "          try {\n",
              "            const charts = await google.colab.kernel.invokeFunction(\n",
              "                'suggestCharts', [key], {});\n",
              "          } catch (error) {\n",
              "            console.error('Error during call to suggestCharts:', error);\n",
              "          }\n",
              "          quickchartButtonEl.classList.remove('colab-df-spinner');\n",
              "          quickchartButtonEl.classList.add('colab-df-quickchart-complete');\n",
              "        }\n",
              "        (() => {\n",
              "          let quickchartButtonEl =\n",
              "            document.querySelector('#df-0b6bc634-9e30-4566-962c-0f9f2790f950 button');\n",
              "          quickchartButtonEl.style.display =\n",
              "            google.colab.kernel.accessAllowed ? 'block' : 'none';\n",
              "        })();\n",
              "      </script>\n",
              "    </div>\n",
              "\n",
              "    </div>\n",
              "  </div>\n"
            ],
            "text/plain": [
              "   movie_id                                   title_x     budget     revenue  \\\n",
              "0     19995                                    Avatar  237000000  2923706026   \n",
              "1       285  Pirates of the Caribbean: At World's End  300000000   961691209   \n",
              "2    206647                                   Spectre  245000000   880707597   \n",
              "3     49026                     The Dark Knight Rises  250000000  1081041287   \n",
              "4     49529                               John Carter  250000000   284100000   \n",
              "\n",
              "   runtime release_date                                             genres  \\\n",
              "0      162   2009-12-15  ['Action', 'Adventure', 'Fantasy', 'Science Fi...   \n",
              "1      169   2007-05-19                 ['Adventure', 'Fantasy', 'Action']   \n",
              "2      148   2015-10-26                ['Action', 'Adventure', 'Thriller']   \n",
              "3      165   2012-07-17           ['Action', 'Crime', 'Drama', 'Thriller']   \n",
              "4      132   2012-03-07         ['Action', 'Adventure', 'Science Fiction']   \n",
              "\n",
              "  original_language  popularity  vote_average  vote_count    status  \\\n",
              "0                en     24.6495         7.589       32216  Released   \n",
              "1                en     14.9196         7.259       14687  Released   \n",
              "2                en      6.4422         6.558       10702  Released   \n",
              "3                en     13.0256         7.785       23192  Released   \n",
              "4                en      6.1147         6.333        5723  Released   \n",
              "\n",
              "                                production_companies  \\\n",
              "0  ['Dune Entertainment', 'Lightstorm Entertainme...   \n",
              "1  ['Jerry Bruckheimer Films', 'Second Mate Produ...   \n",
              "2  ['Metro-Goldwyn-Mayer', 'Columbia Pictures', '...   \n",
              "3  ['Syncopy', 'Legendary Pictures', 'DC Entertai...   \n",
              "4                           ['Walt Disney Pictures']   \n",
              "\n",
              "                                    title_y  \\\n",
              "0                                    Avatar   \n",
              "1  Pirates of the Caribbean: At World's End   \n",
              "2                                   Spectre   \n",
              "3                     The Dark Knight Rises   \n",
              "4                               John Carter   \n",
              "\n",
              "                                            top_cast           director  \n",
              "0  ['Sam Worthington', 'Zoe Saldana', 'Sigourney ...      James Cameron  \n",
              "1  ['Johnny Depp', 'Orlando Bloom', 'Keira Knight...     Gore Verbinski  \n",
              "2  ['Daniel Craig', 'Christoph Waltz', 'Léa Seydo...         Sam Mendes  \n",
              "3  ['Christian Bale', 'Michael Caine', 'Gary Oldm...  Christopher Nolan  \n",
              "4  ['Taylor Kitsch', 'Lynn Collins', 'Samantha Mo...     Andrew Stanton  "
            ]
          },
          "execution_count": 4,
          "metadata": {},
          "output_type": "execute_result"
        }
      ],
      "source": [
        "df.head()"
      ]
    },
    {
      "cell_type": "code",
      "execution_count": null,
      "metadata": {
        "colab": {
          "base_uri": "https://localhost:8080/"
        },
        "id": "aY1RaGjJdOYI",
        "outputId": "71551e83-a002-44e6-eaed-60d0eaf05c38"
      },
      "outputs": [
        {
          "name": "stdout",
          "output_type": "stream",
          "text": [
            "director    30\n",
            "dtype: int64\n"
          ]
        }
      ],
      "source": [
        "missing = df.isnull().sum().sort_values(ascending=False)\n",
        "print(missing[missing > 0])"
      ]
    },
    {
      "cell_type": "code",
      "execution_count": null,
      "metadata": {
        "colab": {
          "base_uri": "https://localhost:8080/"
        },
        "id": "9qS8apHNd_x2",
        "outputId": "bbdde7ea-f60b-4fd9-9a99-d47fc09c1e0d"
      },
      "outputs": [
        {
          "data": {
            "text/plain": [
              "['movie_id',\n",
              " 'title_x',\n",
              " 'budget',\n",
              " 'revenue',\n",
              " 'runtime',\n",
              " 'release_date',\n",
              " 'genres',\n",
              " 'original_language',\n",
              " 'popularity',\n",
              " 'vote_average',\n",
              " 'vote_count',\n",
              " 'status',\n",
              " 'production_companies',\n",
              " 'title_y',\n",
              " 'top_cast',\n",
              " 'director']"
            ]
          },
          "execution_count": 6,
          "metadata": {},
          "output_type": "execute_result"
        }
      ],
      "source": [
        "df.columns.tolist()"
      ]
    },
    {
      "cell_type": "code",
      "execution_count": null,
      "metadata": {
        "colab": {
          "base_uri": "https://localhost:8080/"
        },
        "id": "R_DMWR2ldjBI",
        "outputId": "78f90bb2-822b-454f-a8c8-8242181e4372"
      },
      "outputs": [
        {
          "name": "stdout",
          "output_type": "stream",
          "text": [
            "                                                title_x release_date\n",
            "3656                                          Flying By   2009-01-01\n",
            "3665                                    Running Forever   2015-10-27\n",
            "3724                                                Paa   2009-12-04\n",
            "3970                                 Boynton Beach Club   2005-08-05\n",
            "4061                                          Sharkskin   2015-01-01\n",
            "4098    The Book of Mormon Movie, Volume 1: The Journey   2003-09-12\n",
            "4111                             Hum To Mohabbat Karega   2000-05-26\n",
            "4116                                     Roadside Romeo   2008-10-24\n",
            "4240                              Me You and Five Bucks   2015-07-07\n",
            "4298                          Down & Out With The Dolls   2002-04-26\n",
            "4307                                          Crowsnest   2012-09-07\n",
            "4315                                 Sex with Strangers   2002-02-22\n",
            "4367                              Dream with the Fishes   1997-11-21\n",
            "4394                                The Helix... Loaded   2005-03-25\n",
            "4398                                  Karachi Se Lahore   2015-07-31\n",
            "4451                                Harrison Montgomery   2008-01-01\n",
            "4497                            Light from the Darkroom   2014-01-01\n",
            "4546                                 I'm Charlie Walker   2022-06-10\n",
            "4555                           The Little Ponderosa Zoo   2014-09-11\n",
            "4559                                       Diamond Ruff   2015-01-01\n",
            "4564  Rise of the Entrepreneur: The Search for a Bet...   2014-11-20\n",
            "4576                                  I Want Your Money   2010-07-06\n",
            "4582                                             Fabled   2002-08-17\n",
            "4626                                        Death Calls   2010-09-01\n",
            "4631                           Amidst the Devil's Wings   2014-12-01\n",
            "4637                                    Teeth and Blood   2015-03-10\n",
            "4650                                          UnDivided   2013-02-01\n",
            "4655                                     Little Big Top   2006-01-01\n",
            "4667                   Short Cut to Nirvana: Kumbh Mela   2004-05-11\n",
            "4709  The Blood of My Brother: A Story of Death in Iraq   2005-11-25\n"
          ]
        }
      ],
      "source": [
        "missing_directors = df[df['director'].isnull()]\n",
        "print(missing_directors[['title_x', 'release_date']])"
      ]
    },
    {
      "cell_type": "code",
      "execution_count": null,
      "metadata": {
        "id": "Xxf0CQ2CeITm"
      },
      "outputs": [],
      "source": [
        "df['director'] = df['director'].fillna('Unknown')"
      ]
    },
    {
      "cell_type": "code",
      "execution_count": null,
      "metadata": {
        "colab": {
          "base_uri": "https://localhost:8080/",
          "height": 797
        },
        "id": "WFBNgqhycAru",
        "outputId": "4bde45f2-3f37-474d-dc51-0e00bec4c19f"
      },
      "outputs": [
        {
          "data": {
            "image/png": "[encoded data removed]",
            "text/plain": [
              "<Figure size 1000x400 with 1 Axes>"
            ]
          },
          "metadata": {},
          "output_type": "display_data"
        },
        {
          "data": {
            "image/png": "[encoded data removed]",
            "text/plain": [
              "<Figure size 1000x400 with 1 Axes>"
            ]
          },
          "metadata": {},
          "output_type": "display_data"
        }
      ],
      "source": [
        "plt.figure(figsize=(10,4))\n",
        "sns.histplot(df['revenue'], bins=50, kde=True, color='green')\n",
        "plt.title('Distribution of Revenue')\n",
        "\n",
        "plt.figure(figsize=(10,4))\n",
        "sns.histplot(df['budget'], bins=50, kde=True, color='blue')\n",
        "plt.title('Distribution of Budget')\n",
        "\n",
        "plt.show()"
      ]
    },
    {
      "cell_type": "markdown",
      "metadata": {
        "id": "4Er1s-LxcsJo"
      },
      "source": [
        "We can see a right-skewed distribution between in both revenue and budget, implying that most movies have very low budgets and a small number of blockbuster films dominate the upper range (e.g. budgets > $100M)"
      ]
    },
    {
      "cell_type": "code",
      "execution_count": null,
      "metadata": {
        "colab": {
          "base_uri": "https://localhost:8080/",
          "height": 472
        },
        "id": "rjod3RB2cjpO",
        "outputId": "f64bbe76-d7d6-41fa-b378-5be80557d469"
      },
      "outputs": [
        {
          "data": {
            "image/png": "[encoded data removed]",
            "text/plain": [
              "<Figure size 640x480 with 1 Axes>"
            ]
          },
          "metadata": {},
          "output_type": "display_data"
        }
      ],
      "source": [
        "sns.scatterplot(x='budget', y='revenue', data=df)\n",
        "plt.title('Budget vs Revenue')\n",
        "plt.xlabel('Budget')\n",
        "plt.ylabel('Revenue')\n",
        "plt.show()"
      ]
    },
    {
      "cell_type": "markdown",
      "metadata": {
        "id": "GR5keb16fBKd"
      },
      "source": [
        "There's a positive relationship betwene budget and revenue but still significant variance as some movies with high budgets still flop and lower-budget ones do well."
      ]
    },
    {
      "cell_type": "code",
      "execution_count": null,
      "metadata": {
        "colab": {
          "base_uri": "https://localhost:8080/",
          "height": 472
        },
        "id": "RUHiUO2LeyDD",
        "outputId": "9010596d-05c2-41c1-bc7e-b380fbc768fd"
      },
      "outputs": [
        {
          "data": {
            "image/png": "[encoded data removed]",
            "text/plain": [
              "<Figure size 640x480 with 1 Axes>"
            ]
          },
          "metadata": {},
          "output_type": "display_data"
        }
      ],
      "source": [
        "sns.histplot(df['runtime'].dropna(), bins=40)\n",
        "plt.title('Runtime Distribution')\n",
        "plt.xlabel('Minutes')\n",
        "plt.show()"
      ]
    },
    {
      "cell_type": "code",
      "execution_count": null,
      "metadata": {
        "colab": {
          "base_uri": "https://localhost:8080/",
          "height": 492
        },
        "id": "KuHju4iCe2TK",
        "outputId": "b0b97040-189c-47d5-c5d1-c781c3bf9765"
      },
      "outputs": [
        {
          "data": {
            "text/plain": [
              "<Axes: title={'center': 'Average Revenue by Language'}, xlabel='original_language'>"
            ]
          },
          "execution_count": 12,
          "metadata": {},
          "output_type": "execute_result"
        },
        {
          "data": {
            "image/png": "[encoded data removed]",
            "text/plain": [
              "<Figure size 640x480 with 1 Axes>"
            ]
          },
          "metadata": {},
          "output_type": "display_data"
        }
      ],
      "source": [
        "lang_revenue = df.groupby('original_language')['revenue'].mean().sort_values(ascending=False).head(10)\n",
        "lang_revenue.plot(kind='bar', title='Average Revenue by Language')"
      ]
    },
    {
      "cell_type": "code",
      "execution_count": null,
      "metadata": {
        "colab": {
          "base_uri": "https://localhost:8080/"
        },
        "id": "taCrNSXjhii6",
        "outputId": "cb3276a6-1721-4298-99ab-e876637262bf"
      },
      "outputs": [
        {
          "data": {
            "text/plain": [
              "['movie_id',\n",
              " 'title_x',\n",
              " 'budget',\n",
              " 'revenue',\n",
              " 'runtime',\n",
              " 'release_date',\n",
              " 'genres',\n",
              " 'original_language',\n",
              " 'popularity',\n",
              " 'vote_average',\n",
              " 'vote_count',\n",
              " 'status',\n",
              " 'production_companies',\n",
              " 'title_y',\n",
              " 'top_cast',\n",
              " 'director']"
            ]
          },
          "execution_count": 13,
          "metadata": {},
          "output_type": "execute_result"
        }
      ],
      "source": [
        "df.columns.tolist()"
      ]
    },
    {
      "cell_type": "code",
      "execution_count": null,
      "metadata": {
        "id": "YcOK7KLNe4Td"
      },
      "outputs": [],
      "source": [
        "df['log_budget'] = np.log1p(df['budget'])\n",
        "df['log_revenue'] = np.log1p(df['revenue'])\n",
        "\n",
        "df['release_date']  = pd.to_datetime(df['release_date'], errors='coerce')\n",
        "df['release_year'] = df['release_date'].dt.year\n",
        "df['release_month'] = df['release_date'].dt.month"
      ]
    },
    {
      "cell_type": "code",
      "execution_count": null,
      "metadata": {
        "id": "e8d4B27Chw1h"
      },
      "outputs": [],
      "source": [
        "import ast\n",
        "from sklearn.preprocessing import MultiLabelBinarizer\n",
        "\n",
        "df['genre_list'] = df['genres'].apply(lambda x: [g.strip() for g in ast.literal_eval(x)] if pd.notnull(x) else [])\n",
        "\n",
        "mlb = MultiLabelBinarizer()\n",
        "genre_df = pd.DataFrame(mlb.fit_transform(df['genre_list']), columns=mlb.classes_)\n",
        "\n",
        "df = pd.concat([df, genre_df], axis=1)\n",
        "df.drop(['genres', 'genre_list'], axis=1, inplace=True)"
      ]
    },
    {
      "cell_type": "code",
      "execution_count": null,
      "metadata": {
        "id": "CkiwSgLpixm3"
      },
      "outputs": [],
      "source": [
        "top_langs = df['original_language'].value_counts().nlargest(8).index\n",
        "df['original_language'] = df['original_language'].apply(lambda x: x if x in top_langs else 'other')\n",
        "df = pd.get_dummies(df, columns=['original_language'])\n",
        "\n",
        "df['main_company'] = df['production_companies'].apply(lambda x: ast.literal_eval(x)[0] if pd.notnull(x) and len(ast.literal_eval(x)) > 0 else 'unknown')\n",
        "top_companies = df['main_company'].value_counts().nlargest(10).index\n",
        "df['main_company'] = df['main_company'].apply(lambda x: x if x in top_companies else 'other')\n",
        "df = pd.get_dummies(df, columns=['main_company'])\n",
        "\n",
        "top_directors = df['director'].value_counts().nlargest(10).index\n",
        "df['director'] = df['director'].apply(lambda x: x if x in top_directors else 'other')\n",
        "df = pd.get_dummies(df, columns=['director'])"
      ]
    },
    {
      "cell_type": "code",
      "execution_count": null,
      "metadata": {
        "id": "3SowXGVcjXrM"
      },
      "outputs": [],
      "source": [
        "df['top_cast'] = df['top_cast'].apply(ast.literal_eval)\n",
        "cast_df = df.explode('top_cast')\n",
        "\n",
        "top_actors = cast_df['top_cast'].value_counts().nlargest(15).index\n",
        "\n",
        "for actor in top_actors:\n",
        "    df[f'actor_{actor.replace(\" \", \"_\")}'] = df['top_cast'].apply(lambda x: 1 if actor in x else 0)\n",
        "\n",
        "df.drop(columns=['top_cast'], inplace=True)"
      ]
    },
    {
      "cell_type": "code",
      "execution_count": null,
      "metadata": {
        "id": "WV-t-pQtwSW5"
      },
      "outputs": [],
      "source": [
        "df['budget_to_popularity'] = df['log_budget'] / (df['popularity'] + 1)\n",
        "df['vote_ratio'] = df['vote_average'] / (df['vote_count'] + 1)\n",
        "df['is_summer_release'] = df['release_month'].isin([5, 6, 7, 8]).astype(int)\n",
        "df['is_holiday_release'] = df['release_month'].isin([11,12]).astype(int)\n",
        "df['runtime_bucket'] = pd.cut(\n",
        "    df['runtime'],\n",
        "    bins=[0, 90, 110, 130, 150, float('inf')],\n",
        "    labels=[0, 1, 2, 3, 4]\n",
        ").cat.add_categories([-1]).fillna(-1).astype(int)"
      ]
    },
    {
      "cell_type": "code",
      "execution_count": null,
      "metadata": {
        "id": "eb1BwBVjjcb_"
      },
      "outputs": [],
      "source": [
        "df.drop(columns=['budget', 'revenue', 'status', 'release_date', 'production_companies', 'homepage', 'tagline', 'overview'], errors='ignore', inplace=True)\n"
      ]
    },
    {
      "cell_type": "code",
      "execution_count": null,
      "metadata": {
        "colab": {
          "base_uri": "https://localhost:8080/"
        },
        "id": "_tFx5uJpkE9o",
        "outputId": "2b6130c0-f1d6-486c-8839-94cc38e804fc"
      },
      "outputs": [
        {
          "data": {
            "text/plain": [
              "Index(['movie_id', 'title_x', 'runtime', 'popularity', 'vote_average',\n",
              "       'vote_count', 'title_y', 'log_budget', 'log_revenue', 'release_year',\n",
              "       'release_month', 'Action', 'Adventure', 'Animation', 'Comedy', 'Crime',\n",
              "       'Documentary', 'Drama', 'Family', 'Fantasy', 'History', 'Horror',\n",
              "       'Music', 'Mystery', 'Romance', 'Science Fiction', 'TV Movie',\n",
              "       'Thriller', 'War', 'Western', 'original_language_cn',\n",
              "       'original_language_de', 'original_language_en', 'original_language_es',\n",
              "       'original_language_fr', 'original_language_hi', 'original_language_ja',\n",
              "       'original_language_other', 'original_language_zh',\n",
              "       'main_company_20th Century Fox', 'main_company_Columbia Pictures',\n",
              "       'main_company_Metro-Goldwyn-Mayer', 'main_company_New Line Cinema',\n",
              "       'main_company_Paramount Pictures', 'main_company_Touchstone Pictures',\n",
              "       'main_company_Universal Pictures', 'main_company_Walt Disney Pictures',\n",
              "       'main_company_Warner Bros. Pictures', 'main_company_other',\n",
              "       'main_company_unknown', 'director_Clint Eastwood',\n",
              "       'director_Martin Scorsese', 'director_Renny Harlin',\n",
              "       'director_Ridley Scott', 'director_Robert Rodriguez',\n",
              "       'director_Spike Lee', 'director_Steven Soderbergh',\n",
              "       'director_Steven Spielberg', 'director_Unknown', 'director_Woody Allen',\n",
              "       'director_other', 'actor_Robert_De_Niro', 'actor_Bruce_Willis',\n",
              "       'actor_Matt_Damon', 'actor_Samuel_L._Jackson', 'actor_Nicolas_Cage',\n",
              "       'actor_Johnny_Depp', 'actor_Brad_Pitt', 'actor_Morgan_Freeman',\n",
              "       'actor_Denzel_Washington', 'actor_Tom_Hanks', 'actor_Eddie_Murphy',\n",
              "       'actor_Tom_Cruise', 'actor_Mark_Wahlberg', 'actor_Ben_Stiller',\n",
              "       'actor_Julia_Roberts', 'budget_to_popularity', 'vote_ratio',\n",
              "       'is_summer_release', 'is_holiday_release', 'runtime_bucket'],\n",
              "      dtype='object')"
            ]
          },
          "execution_count": 20,
          "metadata": {},
          "output_type": "execute_result"
        }
      ],
      "source": [
        "df.columns"
      ]
    },
    {
      "cell_type": "code",
      "execution_count": null,
      "metadata": {},
      "outputs": [],
      "source": []
    },
    {
      "cell_type": "code",
      "execution_count": null,
      "metadata": {
        "colab": {
          "base_uri": "https://localhost:8080/",
          "height": 206
        },
        "id": "Cg7G7KH_w4JY",
        "outputId": "7b0a3284-242a-462d-e219-6fbdbcc77060"
      },
      "outputs": [
        {
          "data": {
            "application/vnd.google.colaboratory.intrinsic+json": {
              "summary": "{\n  \"name\": \"df[['is_summer_release', 'is_holiday_release', 'runtime_bucket']]\",\n  \"rows\": 5,\n  \"fields\": [\n    {\n      \"column\": \"is_summer_release\",\n      \"properties\": {\n        \"dtype\": \"number\",\n        \"std\": 0,\n        \"min\": 0,\n        \"max\": 1,\n        \"num_unique_values\": 2,\n        \"samples\": [\n          1,\n          0\n        ],\n        \"semantic_type\": \"\",\n        \"description\": \"\"\n      }\n    },\n    {\n      \"column\": \"is_holiday_release\",\n      \"properties\": {\n        \"dtype\": \"number\",\n        \"std\": 0,\n        \"min\": 0,\n        \"max\": 1,\n        \"num_unique_values\": 2,\n        \"samples\": [\n          0,\n          1\n        ],\n        \"semantic_type\": \"\",\n        \"description\": \"\"\n      }\n    },\n    {\n      \"column\": \"runtime_bucket\",\n      \"properties\": {\n        \"dtype\": \"number\",\n        \"std\": 0,\n        \"min\": 3,\n        \"max\": 4,\n        \"num_unique_values\": 2,\n        \"samples\": [\n          3,\n          4\n        ],\n        \"semantic_type\": \"\",\n        \"description\": \"\"\n      }\n    }\n  ]\n}",
              "type": "dataframe"
            },
            "text/html": [
              "\n",
              "  <div id=\"df-c1d9b865-c04a-4f8a-934f-8ae8b4c3e0ba\" class=\"colab-df-container\">\n",
              "    <div>\n",
              "<style scoped>\n",
              "    .dataframe tbody tr th:only-of-type {\n",
              "        vertical-align: middle;\n",
              "    }\n",
              "\n",
              "    .dataframe tbody tr th {\n",
              "        vertical-align: top;\n",
              "    }\n",
              "\n",
              "    .dataframe thead th {\n",
              "        text-align: right;\n",
              "    }\n",
              "</style>\n",
              "<table border=\"1\" class=\"dataframe\">\n",
              "  <thead>\n",
              "    <tr style=\"text-align: right;\">\n",
              "      <th></th>\n",
              "      <th>is_summer_release</th>\n",
              "      <th>is_holiday_release</th>\n",
              "      <th>runtime_bucket</th>\n",
              "    </tr>\n",
              "  </thead>\n",
              "  <tbody>\n",
              "    <tr>\n",
              "      <th>0</th>\n",
              "      <td>0</td>\n",
              "      <td>1</td>\n",
              "      <td>4</td>\n",
              "    </tr>\n",
              "    <tr>\n",
              "      <th>1</th>\n",
              "      <td>1</td>\n",
              "      <td>0</td>\n",
              "      <td>4</td>\n",
              "    </tr>\n",
              "    <tr>\n",
              "      <th>2</th>\n",
              "      <td>0</td>\n",
              "      <td>0</td>\n",
              "      <td>3</td>\n",
              "    </tr>\n",
              "    <tr>\n",
              "      <th>3</th>\n",
              "      <td>1</td>\n",
              "      <td>0</td>\n",
              "      <td>4</td>\n",
              "    </tr>\n",
              "    <tr>\n",
              "      <th>4</th>\n",
              "      <td>0</td>\n",
              "      <td>0</td>\n",
              "      <td>3</td>\n",
              "    </tr>\n",
              "  </tbody>\n",
              "</table>\n",
              "</div>\n",
              "    <div class=\"colab-df-buttons\">\n",
              "\n",
              "  <div class=\"colab-df-container\">\n",
              "    <button class=\"colab-df-convert\" onclick=\"convertToInteractive('df-c1d9b865-c04a-4f8a-934f-8ae8b4c3e0ba')\"\n",
              "            title=\"Convert this dataframe to an interactive table.\"\n",
              "            style=\"display:none;\">\n",
              "\n",
              "  <svg xmlns=\"http://www.w3.org/2000/svg\" height=\"24px\" viewBox=\"0 -960 960 960\">\n",
              "    <path d=\"M120-120v-720h720v720H120Zm60-500h600v-160H180v160Zm220 220h160v-160H400v160Zm0 220h160v-160H400v160ZM180-400h160v-160H180v160Zm440 0h160v-160H620v160ZM180-180h160v-160H180v160Zm440 0h160v-160H620v160Z\"/>\n",
              "  </svg>\n",
              "    </button>\n",
              "\n",
              "  <style>\n",
              "    .colab-df-container {\n",
              "      display:flex;\n",
              "      gap: 12px;\n",
              "    }\n",
              "\n",
              "    .colab-df-convert {\n",
              "      background-color: #E8F0FE;\n",
              "      border: none;\n",
              "      border-radius: 50%;\n",
              "      cursor: pointer;\n",
              "      display: none;\n",
              "      fill: #1967D2;\n",
              "      height: 32px;\n",
              "      padding: 0 0 0 0;\n",
              "      width: 32px;\n",
              "    }\n",
              "\n",
              "    .colab-df-convert:hover {\n",
              "      background-color: #E2EBFA;\n",
              "      box-shadow: 0px 1px 2px rgba(60, 64, 67, 0.3), 0px 1px 3px 1px rgba(60, 64, 67, 0.15);\n",
              "      fill: #174EA6;\n",
              "    }\n",
              "\n",
              "    .colab-df-buttons div {\n",
              "      margin-bottom: 4px;\n",
              "    }\n",
              "\n",
              "    [theme=dark] .colab-df-convert {\n",
              "      background-color: #3B4455;\n",
              "      fill: #D2E3FC;\n",
              "    }\n",
              "\n",
              "    [theme=dark] .colab-df-convert:hover {\n",
              "      background-color: #434B5C;\n",
              "      box-shadow: 0px 1px 3px 1px rgba(0, 0, 0, 0.15);\n",
              "      filter: drop-shadow(0px 1px 2px rgba(0, 0, 0, 0.3));\n",
              "      fill: #FFFFFF;\n",
              "    }\n",
              "  </style>\n",
              "\n",
              "    <script>\n",
              "      const buttonEl =\n",
              "        document.querySelector('#df-c1d9b865-c04a-4f8a-934f-8ae8b4c3e0ba button.colab-df-convert');\n",
              "      buttonEl.style.display =\n",
              "        google.colab.kernel.accessAllowed ? 'block' : 'none';\n",
              "\n",
              "      async function convertToInteractive(key) {\n",
              "        const element = document.querySelector('#df-c1d9b865-c04a-4f8a-934f-8ae8b4c3e0ba');\n",
              "        const dataTable =\n",
              "          await google.colab.kernel.invokeFunction('convertToInteractive',\n",
              "                                                    [key], {});\n",
              "        if (!dataTable) return;\n",
              "\n",
              "        const docLinkHtml = 'Like what you see? Visit the ' +\n",
              "          '<a target=\"_blank\" href=https://colab.research.google.com/notebooks/data_table.ipynb>data table notebook</a>'\n",
              "          + ' to learn more about interactive tables.';\n",
              "        element.innerHTML = '';\n",
              "        dataTable['output_type'] = 'display_data';\n",
              "        await google.colab.output.renderOutput(dataTable, element);\n",
              "        const docLink = document.createElement('div');\n",
              "        docLink.innerHTML = docLinkHtml;\n",
              "        element.appendChild(docLink);\n",
              "      }\n",
              "    </script>\n",
              "  </div>\n",
              "\n",
              "\n",
              "    <div id=\"df-8fb09aba-0371-4408-b092-1df8e485a300\">\n",
              "      <button class=\"colab-df-quickchart\" onclick=\"quickchart('df-8fb09aba-0371-4408-b092-1df8e485a300')\"\n",
              "                title=\"Suggest charts\"\n",
              "                style=\"display:none;\">\n",
              "\n",
              "<svg xmlns=\"http://www.w3.org/2000/svg\" height=\"24px\"viewBox=\"0 0 24 24\"\n",
              "     width=\"24px\">\n",
              "    <g>\n",
              "        <path d=\"M19 3H5c-1.1 0-2 .9-2 2v14c0 1.1.9 2 2 2h14c1.1 0 2-.9 2-2V5c0-1.1-.9-2-2-2zM9 17H7v-7h2v7zm4 0h-2V7h2v10zm4 0h-2v-4h2v4z\"/>\n",
              "    </g>\n",
              "</svg>\n",
              "      </button>\n",
              "\n",
              "<style>\n",
              "  .colab-df-quickchart {\n",
              "      --bg-color: #E8F0FE;\n",
              "      --fill-color: #1967D2;\n",
              "      --hover-bg-color: #E2EBFA;\n",
              "      --hover-fill-color: #174EA6;\n",
              "      --disabled-fill-color: #AAA;\n",
              "      --disabled-bg-color: #DDD;\n",
              "  }\n",
              "\n",
              "  [theme=dark] .colab-df-quickchart {\n",
              "      --bg-color: #3B4455;\n",
              "      --fill-color: #D2E3FC;\n",
              "      --hover-bg-color: #434B5C;\n",
              "      --hover-fill-color: #FFFFFF;\n",
              "      --disabled-bg-color: #3B4455;\n",
              "      --disabled-fill-color: #666;\n",
              "  }\n",
              "\n",
              "  .colab-df-quickchart {\n",
              "    background-color: var(--bg-color);\n",
              "    border: none;\n",
              "    border-radius: 50%;\n",
              "    cursor: pointer;\n",
              "    display: none;\n",
              "    fill: var(--fill-color);\n",
              "    height: 32px;\n",
              "    padding: 0;\n",
              "    width: 32px;\n",
              "  }\n",
              "\n",
              "  .colab-df-quickchart:hover {\n",
              "    background-color: var(--hover-bg-color);\n",
              "    box-shadow: 0 1px 2px rgba(60, 64, 67, 0.3), 0 1px 3px 1px rgba(60, 64, 67, 0.15);\n",
              "    fill: var(--button-hover-fill-color);\n",
              "  }\n",
              "\n",
              "  .colab-df-quickchart-complete:disabled,\n",
              "  .colab-df-quickchart-complete:disabled:hover {\n",
              "    background-color: var(--disabled-bg-color);\n",
              "    fill: var(--disabled-fill-color);\n",
              "    box-shadow: none;\n",
              "  }\n",
              "\n",
              "  .colab-df-spinner {\n",
              "    border: 2px solid var(--fill-color);\n",
              "    border-color: transparent;\n",
              "    border-bottom-color: var(--fill-color);\n",
              "    animation:\n",
              "      spin 1s steps(1) infinite;\n",
              "  }\n",
              "\n",
              "  @keyframes spin {\n",
              "    0% {\n",
              "      border-color: transparent;\n",
              "      border-bottom-color: var(--fill-color);\n",
              "      border-left-color: var(--fill-color);\n",
              "    }\n",
              "    20% {\n",
              "      border-color: transparent;\n",
              "      border-left-color: var(--fill-color);\n",
              "      border-top-color: var(--fill-color);\n",
              "    }\n",
              "    30% {\n",
              "      border-color: transparent;\n",
              "      border-left-color: var(--fill-color);\n",
              "      border-top-color: var(--fill-color);\n",
              "      border-right-color: var(--fill-color);\n",
              "    }\n",
              "    40% {\n",
              "      border-color: transparent;\n",
              "      border-right-color: var(--fill-color);\n",
              "      border-top-color: var(--fill-color);\n",
              "    }\n",
              "    60% {\n",
              "      border-color: transparent;\n",
              "      border-right-color: var(--fill-color);\n",
              "    }\n",
              "    80% {\n",
              "      border-color: transparent;\n",
              "      border-right-color: var(--fill-color);\n",
              "      border-bottom-color: var(--fill-color);\n",
              "    }\n",
              "    90% {\n",
              "      border-color: transparent;\n",
              "      border-bottom-color: var(--fill-color);\n",
              "    }\n",
              "  }\n",
              "</style>\n",
              "\n",
              "      <script>\n",
              "        async function quickchart(key) {\n",
              "          const quickchartButtonEl =\n",
              "            document.querySelector('#' + key + ' button');\n",
              "          quickchartButtonEl.disabled = true;  // To prevent multiple clicks.\n",
              "          quickchartButtonEl.classList.add('colab-df-spinner');\n",
              "          try {\n",
              "            const charts = await google.colab.kernel.invokeFunction(\n",
              "                'suggestCharts', [key], {});\n",
              "          } catch (error) {\n",
              "            console.error('Error during call to suggestCharts:', error);\n",
              "          }\n",
              "          quickchartButtonEl.classList.remove('colab-df-spinner');\n",
              "          quickchartButtonEl.classList.add('colab-df-quickchart-complete');\n",
              "        }\n",
              "        (() => {\n",
              "          let quickchartButtonEl =\n",
              "            document.querySelector('#df-8fb09aba-0371-4408-b092-1df8e485a300 button');\n",
              "          quickchartButtonEl.style.display =\n",
              "            google.colab.kernel.accessAllowed ? 'block' : 'none';\n",
              "        })();\n",
              "      </script>\n",
              "    </div>\n",
              "\n",
              "    </div>\n",
              "  </div>\n"
            ],
            "text/plain": [
              "   is_summer_release  is_holiday_release  runtime_bucket\n",
              "0                  0                   1               4\n",
              "1                  1                   0               4\n",
              "2                  0                   0               3\n",
              "3                  1                   0               4\n",
              "4                  0                   0               3"
            ]
          },
          "execution_count": 21,
          "metadata": {},
          "output_type": "execute_result"
        }
      ],
      "source": [
        "df[['is_summer_release', 'is_holiday_release', 'runtime_bucket']].head()"
      ]
    },
    {
      "cell_type": "code",
      "execution_count": null,
      "metadata": {
        "id": "fYZFY0AxkOsE"
      },
      "outputs": [],
      "source": [
        "df.to_csv('final_dataset.csv', index=False)"
      ]
    }
  ],
  "metadata": {
    "colab": {
      "provenance": []
    },
    "kernelspec": {
      "display_name": "Python 3",
      "name": "python3"
    },
    "language_info": {
      "name": "python"
    }
  },
  "nbformat": 4,
  "nbformat_minor": 0
}
